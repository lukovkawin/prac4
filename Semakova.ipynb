{
 "cells": [
  {
   "cell_type": "code",
   "execution_count": 4,
   "metadata": {},
   "outputs": [],
   "source": [
    "import  numpy as np\n",
    "import pandas as pd\n",
    "from functools import reduce"
   ]
  },
  {
   "cell_type": "code",
   "execution_count": 5,
   "metadata": {},
   "outputs": [],
   "source": [
    "'''\n",
    "problem:\n",
    "        f(x) -> min\n",
    "        g1_i(x) <= 0 for g1_i in g_list_ineq\n",
    "        g2_i(x) = 0 for g2_i in g_list_eq \n",
    "'''\n",
    "def f(x):\n",
    "    return x[0] ** 2 + x[1] ** 2 + 2*x[0] * x[1] "
   ]
  },
  {
   "cell_type": "code",
   "execution_count": 15,
   "metadata": {},
   "outputs": [],
   "source": [
    "def f(x):\n",
    "    sum_ = 0\n",
    "    for i in [2,3,4,5]:\n",
    "        sum_ += (x[i-1]-x[0])**2+(x[0]-3)**2\n",
    "    return 100 * sum_"
   ]
  },
  {
   "cell_type": "code",
   "execution_count": 16,
   "metadata": {},
   "outputs": [],
   "source": [
    "def g1(x):\n",
    "    sum_ = 0\n",
    "    for i in [1,2,3,4,5]:\n",
    "        sum_ += (x[i-1])**2 -x[2]\n",
    "    return sum_\n",
    "def g2(x):\n",
    "    return x[2] - 1"
   ]
  },
  {
   "cell_type": "code",
   "execution_count": 7,
   "metadata": {},
   "outputs": [],
   "source": [
    "def derivative(f, i, x, dx=0.001):\n",
    "    new_x = np.copy(x)\n",
    "    new_x[i] += dx\n",
    "    if (g1(new_x)<= 0) and (g2(new_x)<= 0):\n",
    "        return (f(new_x) - f(x)) / dx\n",
    "    else:\n",
    "        new_x = np.copy(x)\n",
    "        new_x[i] -= dx\n",
    "        return (f(x) - f(new_x)) / dx"
   ]
  },
  {
   "cell_type": "code",
   "execution_count": 8,
   "metadata": {},
   "outputs": [],
   "source": [
    "def grad(f, x):\n",
    "    g = np.array([])\n",
    "    for i in range(len(x)):\n",
    "        g = np.append(g, derivative(f, i, x))\n",
    "    return g"
   ]
  },
  {
   "cell_type": "code",
   "execution_count": 9,
   "metadata": {},
   "outputs": [],
   "source": [
    "def penalty_method(f, x0, g_list_ineq=[], g_list_eq=[], degree=2, eps=1e-3, r0=1e0, beta=1.5, alpha=1e-3, grad_eps=1e-4):\n",
    "    '''        \n",
    "    degree - parameter in penalty = |max(0, g1(x))| ^ degree and  penalty = |g2(x)| ^ degree\n",
    "    alpha - gradient descent parameter\n",
    "    beta - rate to decrease penalty weight r\n",
    "    grad_eps - criterion to stop gradient descent if |f(x_k) - f(x_k-1)| < grad_eps\n",
    "    '''        \n",
    "    r = r0 #r0 - initial penalty weight in F(x) = f(x) + r*Penalty(x)\n",
    "    x = np.asarray(x0)\n",
    "    x1 = x + 100\n",
    "    while abs(f(x) - f(x1)) > eps:\n",
    "        penalty = lambda y: r*(reduce(lambda sum_, g1: sum_ + np.abs(np.maximum(0, g1(y)))**degree, g_list_ineq, 0.0) +\n",
    "             reduce(lambda sum_, g2: sum_ + np.abs(g2(y))**degree, g_list_eq, 0.0))\n",
    "        F = lambda y: f(y) + penalty(y)           \n",
    "        x1 = x\n",
    "        x = gradient_descent(F, x, alpha=alpha, eps=grad_eps)\n",
    "        r *= beta\n",
    "        \n",
    "    return x"
   ]
  },
  {
   "cell_type": "code",
   "execution_count": 10,
   "metadata": {},
   "outputs": [],
   "source": [
    "def gradient_descent(f, x0, alpha, eps):\n",
    "    x = np.asarray(x0)\n",
    "    x1 = x + 100\n",
    "    while abs(f(x) - f(x1)) > eps:\n",
    "        x1 = x\n",
    "        x = x - alpha * grad(f, x)\n",
    "       \n",
    "    return x"
   ]
  },
  {
   "cell_type": "code",
   "execution_count": 25,
   "metadata": {},
   "outputs": [
    {
     "name": "stdout",
     "output_type": "stream",
     "text": [
      "Result: x = [-9.76583061e+20  5.27343369e+19  1.13292271e+20  5.27343369e+19\n",
      "  5.27343369e+19] | f =  8.181169058852392e+44\n"
     ]
    }
   ],
   "source": [
    "x0 = np.array([0.,0.,0.,0.,0.])\n",
    "x = penalty_method(f, x0, [g1, g2], alpha=1e-2, degree=2, grad_eps=1e-7, r0=1e0, beta=5, eps=1e-6) \n",
    "print('Result: x =', x, '| f = ', f(x))"
   ]
  },
  {
   "cell_type": "code",
   "execution_count": null,
   "metadata": {},
   "outputs": [],
   "source": []
  }
 ],
 "metadata": {
  "kernelspec": {
   "display_name": "Python 3",
   "language": "python",
   "name": "python3"
  },
  "language_info": {
   "codemirror_mode": {
    "name": "ipython",
    "version": 3
   },
   "file_extension": ".py",
   "mimetype": "text/x-python",
   "name": "python",
   "nbconvert_exporter": "python",
   "pygments_lexer": "ipython3",
   "version": "3.6.5"
  }
 },
 "nbformat": 4,
 "nbformat_minor": 2
}
